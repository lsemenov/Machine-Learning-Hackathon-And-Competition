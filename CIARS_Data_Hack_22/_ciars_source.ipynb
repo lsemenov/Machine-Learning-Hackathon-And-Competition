{
 "cells": [
  {
   "cell_type": "code",
   "execution_count": 1,
   "id": "d872a362",
   "metadata": {},
   "outputs": [],
   "source": [
    "from sklearn.feature_extraction.text import TfidfTransformer\n",
    "from sklearn.feature_extraction.text import CountVectorizer\n",
    "from sklearn.feature_extraction.text import TfidfVectorizer\n",
    "from sklearn.model_selection import train_test_split\n",
    "from sklearn.linear_model import LogisticRegression\n",
    "from sklearn.model_selection import GridSearchCV\n",
    "from sklearn.pipeline import Pipeline\n",
    "from nltk.corpus import stopwords\n",
    "import pandas as pd\n",
    "import numpy as np\n",
    "import pymorphy2\n",
    "import pyprind\n",
    "import nltk\n",
    "import json\n",
    "import os\n",
    "import re"
   ]
  },
  {
   "cell_type": "code",
   "execution_count": 2,
   "id": "c6698342",
   "metadata": {},
   "outputs": [
    {
     "data": {
      "text/plain": [
       "(30000, 3)"
      ]
     },
     "execution_count": 2,
     "metadata": {},
     "output_type": "execute_result"
    }
   ],
   "source": [
    "# загрузка датасета\n",
    "df = pd.read_csv(\"data/train.csv\", encoding=\"utf-8\", index_col=\"index\")\n",
    "df.shape"
   ]
  },
  {
   "cell_type": "code",
   "execution_count": 3,
   "id": "8ad6d5a2",
   "metadata": {},
   "outputs": [
    {
     "name": "stdout",
     "output_type": "stream",
     "text": [
      "train.shape=(15650, 3)\n"
     ]
    },
    {
     "data": {
      "text/html": [
       "<div>\n",
       "<style scoped>\n",
       "    .dataframe tbody tr th:only-of-type {\n",
       "        vertical-align: middle;\n",
       "    }\n",
       "\n",
       "    .dataframe tbody tr th {\n",
       "        vertical-align: top;\n",
       "    }\n",
       "\n",
       "    .dataframe thead th {\n",
       "        text-align: right;\n",
       "    }\n",
       "</style>\n",
       "<table border=\"1\" class=\"dataframe\">\n",
       "  <thead>\n",
       "    <tr style=\"text-align: right;\">\n",
       "      <th></th>\n",
       "      <th>name</th>\n",
       "      <th>description</th>\n",
       "      <th>target</th>\n",
       "    </tr>\n",
       "    <tr>\n",
       "      <th>index</th>\n",
       "      <th></th>\n",
       "      <th></th>\n",
       "      <th></th>\n",
       "    </tr>\n",
       "  </thead>\n",
       "  <tbody>\n",
       "    <tr>\n",
       "      <th>169939030</th>\n",
       "      <td>кассир в пиццерию г витебск</td>\n",
       "      <td>&lt;p&gt;&lt;strong&gt;Устал искать работу? Может, хочешь ...</td>\n",
       "      <td>5223</td>\n",
       "    </tr>\n",
       "    <tr>\n",
       "      <th>169293782</th>\n",
       "      <td>продавец консультант yota (тц галерея)</td>\n",
       "      <td>&lt;p&gt;За любыми достижениями нашей компании в пер...</td>\n",
       "      <td>5223</td>\n",
       "    </tr>\n",
       "    <tr>\n",
       "      <th>291073919</th>\n",
       "      <td>электросварщик накс ск (п 1 г норильск)</td>\n",
       "      <td>&lt;p&gt;Группе компаний КСК на промышленный объект ...</td>\n",
       "      <td>7212</td>\n",
       "    </tr>\n",
       "    <tr>\n",
       "      <th>179260831</th>\n",
       "      <td>кассир</td>\n",
       "      <td>Правила приема и проведения расчетных и конвер...</td>\n",
       "      <td>5223</td>\n",
       "    </tr>\n",
       "    <tr>\n",
       "      <th>39608878</th>\n",
       "      <td>оператор машинного доения</td>\n",
       "      <td>Выполнять все виды работ, связанные с производ...</td>\n",
       "      <td>6121</td>\n",
       "    </tr>\n",
       "  </tbody>\n",
       "</table>\n",
       "</div>"
      ],
      "text/plain": [
       "                                              name  \\\n",
       "index                                                \n",
       "169939030              кассир в пиццерию г витебск   \n",
       "169293782   продавец консультант yota (тц галерея)   \n",
       "291073919  электросварщик накс ск (п 1 г норильск)   \n",
       "179260831                                   кассир   \n",
       "39608878                 оператор машинного доения   \n",
       "\n",
       "                                                 description  target  \n",
       "index                                                                 \n",
       "169939030  <p><strong>Устал искать работу? Может, хочешь ...    5223  \n",
       "169293782  <p>За любыми достижениями нашей компании в пер...    5223  \n",
       "291073919  <p>Группе компаний КСК на промышленный объект ...    7212  \n",
       "179260831  Правила приема и проведения расчетных и конвер...    5223  \n",
       "39608878   Выполнять все виды работ, связанные с производ...    6121  "
      ]
     },
     "metadata": {},
     "output_type": "display_data"
    }
   ],
   "source": [
    "train = df.query(\"target != -1\")\n",
    "print(f\"{train.shape=}\")\n",
    "display(train.head())"
   ]
  },
  {
   "cell_type": "markdown",
   "id": "2ea2c9c4",
   "metadata": {},
   "source": [
    "## Предобработка 1\n",
    "Вам будут предоставлены 30 тыс. вакансий для обучения модели - но только для 15 тыс. из них снабжены метками класса. Как использовать оставшиеся 15 тыс. примеров - решает каждая команда индивидуально. Для демонстрации просто выбросим их."
   ]
  },
  {
   "cell_type": "markdown",
   "id": "bf1e048d",
   "metadata": {},
   "source": [
    "### Дополняем описаниями требований вакансий\n",
    "Для вашего удобства произведена первичная преобработка текстового описания, из которого были выделены логические блоки: \"обязанности\", \"требования\" и т.д. Предобработанные описания хранятся в формате `JSON`. Загрузим один из файлов и посмотрим, как выглядят эти данные."
   ]
  },
  {
   "cell_type": "code",
   "execution_count": 4,
   "id": "00e6c0a1",
   "metadata": {},
   "outputs": [],
   "source": [
    "# открываем json с описаниями\n",
    "\n",
    "path_list = [\"data/vacancy_descriptions/1_parsed.json\",\n",
    "             \"data/vacancy_descriptions/2_parsed.json\",\n",
    "             \"data/vacancy_descriptions/3_parsed.json\", \n",
    "             \"data/vacancy_descriptions/4_parsed.json\",\n",
    "             \"data/vacancy_descriptions/5_parsed.json\"]\n",
    "\n",
    "def json_loader(path):\n",
    "    \n",
    "    with open(\n",
    "        path, \"r\", encoding=\"utf8\"\n",
    "    ) as fp:\n",
    "        descriptions = json.load(fp)\n",
    "    \n",
    "    return descriptions\n",
    "    "
   ]
  },
  {
   "cell_type": "markdown",
   "id": "991bf0dc",
   "metadata": {},
   "source": [
    "1. Для каждой вакансии возьмём описания: Position, Обязаности, Требования\n",
    "\n",
    "`description[\"ID\"]: r[:1]` - r[:1] количество строк описания из обязаностей которые мы добавим в датасет"
   ]
  },
  {
   "cell_type": "code",
   "execution_count": 5,
   "id": "f0aec355",
   "metadata": {},
   "outputs": [
    {
     "name": "stderr",
     "output_type": "stream",
     "text": [
      "<ipython-input-5-27892ad9f24c>:2: DeprecationWarning: The default dtype for empty Series will be 'object' instead of 'float64' in a future version. Specify a dtype explicitly to silence this warning.\n",
      "  responsibilities_ans = pd.Series()\n",
      "<ipython-input-5-27892ad9f24c>:3: DeprecationWarning: The default dtype for empty Series will be 'object' instead of 'float64' in a future version. Specify a dtype explicitly to silence this warning.\n",
      "  requirements_ans = pd.Series()\n",
      "<ipython-input-5-27892ad9f24c>:4: DeprecationWarning: The default dtype for empty Series will be 'object' instead of 'float64' in a future version. Specify a dtype explicitly to silence this warning.\n",
      "  positions_ans = pd.Series()\n"
     ]
    },
    {
     "name": "stdout",
     "output_type": "stream",
     "text": [
      "data/vacancy_descriptions/1_parsed.json\n",
      "data/vacancy_descriptions/2_parsed.json\n",
      "data/vacancy_descriptions/3_parsed.json\n",
      "data/vacancy_descriptions/4_parsed.json\n",
      "data/vacancy_descriptions/5_parsed.json\n"
     ]
    },
    {
     "data": {
      "text/plain": [
       "363107946                                                 None\n",
       "363125198                                                 None\n",
       "363144355                                                 None\n",
       "363340232                                                 None\n",
       "363383054    Организовывать и проводить просмотры/показы об...\n",
       "363982236                                                 None\n",
       "364010638                                                 None\n",
       "364022326                                                 None\n",
       "364029440                                                 None\n",
       "367089693                                                 None\n",
       "dtype: object"
      ]
     },
     "metadata": {},
     "output_type": "display_data"
    },
    {
     "data": {
      "text/plain": [
       "(None, (47566,), 5556)"
      ]
     },
     "execution_count": 5,
     "metadata": {},
     "output_type": "execute_result"
    }
   ],
   "source": [
    "def respons_builder(path_list):\n",
    "    responsibilities_ans = pd.Series()\n",
    "    requirements_ans = pd.Series()\n",
    "    positions_ans = pd.Series()\n",
    "    for path in path_list:\n",
    "        print(path)\n",
    "\n",
    "        descriptions = json_loader(path)\n",
    "        responsibilities = pd.Series({\n",
    "            description[\"ID\"]: \" \".join(r[:]) \n",
    "            if (r := description[\"Content\"].get(\"Обязанности\")) is not None\n",
    "            else None\n",
    "            for description in descriptions\n",
    "        }, name=\"responsibilities\")\n",
    "        \n",
    "        requirements = pd.Series({\n",
    "            description[\"ID\"]: \" \".join(r[:]) \n",
    "            if (r := description[\"Content\"].get(\"Требования\")) is not None\n",
    "            else None\n",
    "            for description in descriptions\n",
    "        }, name=\"requirements\")\n",
    "        \n",
    "        positions = pd.Series({\n",
    "            description[\"ID\"]: r[:]\n",
    "            if (r := description[\"Position\"]) is not None\n",
    "            else None\n",
    "            for description in descriptions\n",
    "        }, name=\"positions\")\n",
    "            \n",
    "        responsibilities_ans = pd.concat([responsibilities_ans, responsibilities], axis=0)\n",
    "        requirements_ans = pd.concat([requirements_ans, requirements], axis=0)\n",
    "        positions_ans = pd.concat([positions_ans, positions], axis=0)\n",
    "        \n",
    "    return responsibilities_ans, requirements_ans, positions_ans\n",
    "    \n",
    "\n",
    "responsibilities_ans, requirements_ans, positions_ans = respons_builder(path_list)\n",
    "\n",
    "display(responsibilities_ans.head(10)), responsibilities_ans.shape, responsibilities_ans.isnull().sum()"
   ]
  },
  {
   "cell_type": "markdown",
   "id": "806c05cf",
   "metadata": {},
   "source": [
    "2. Добавим еще столбецы с описанием в таблицу с обучающей выборкой."
   ]
  },
  {
   "cell_type": "code",
   "execution_count": 6,
   "id": "265bcbd2",
   "metadata": {},
   "outputs": [
    {
     "name": "stderr",
     "output_type": "stream",
     "text": [
      "<ipython-input-6-715ebf1b2f20>:1: SettingWithCopyWarning: \n",
      "A value is trying to be set on a copy of a slice from a DataFrame.\n",
      "Try using .loc[row_indexer,col_indexer] = value instead\n",
      "\n",
      "See the caveats in the documentation: https://pandas.pydata.org/pandas-docs/stable/user_guide/indexing.html#returning-a-view-versus-a-copy\n",
      "  train[\"responsibilities\"] = responsibilities_ans\n",
      "<ipython-input-6-715ebf1b2f20>:2: SettingWithCopyWarning: \n",
      "A value is trying to be set on a copy of a slice from a DataFrame.\n",
      "Try using .loc[row_indexer,col_indexer] = value instead\n",
      "\n",
      "See the caveats in the documentation: https://pandas.pydata.org/pandas-docs/stable/user_guide/indexing.html#returning-a-view-versus-a-copy\n",
      "  train[\"requirements\"] = requirements_ans\n",
      "<ipython-input-6-715ebf1b2f20>:3: SettingWithCopyWarning: \n",
      "A value is trying to be set on a copy of a slice from a DataFrame.\n",
      "Try using .loc[row_indexer,col_indexer] = value instead\n",
      "\n",
      "See the caveats in the documentation: https://pandas.pydata.org/pandas-docs/stable/user_guide/indexing.html#returning-a-view-versus-a-copy\n",
      "  train[\"positions\"] = positions_ans\n"
     ]
    },
    {
     "data": {
      "text/html": [
       "<div>\n",
       "<style scoped>\n",
       "    .dataframe tbody tr th:only-of-type {\n",
       "        vertical-align: middle;\n",
       "    }\n",
       "\n",
       "    .dataframe tbody tr th {\n",
       "        vertical-align: top;\n",
       "    }\n",
       "\n",
       "    .dataframe thead th {\n",
       "        text-align: right;\n",
       "    }\n",
       "</style>\n",
       "<table border=\"1\" class=\"dataframe\">\n",
       "  <thead>\n",
       "    <tr style=\"text-align: right;\">\n",
       "      <th></th>\n",
       "      <th>name</th>\n",
       "      <th>description</th>\n",
       "      <th>target</th>\n",
       "      <th>responsibilities</th>\n",
       "      <th>requirements</th>\n",
       "      <th>positions</th>\n",
       "    </tr>\n",
       "    <tr>\n",
       "      <th>index</th>\n",
       "      <th></th>\n",
       "      <th></th>\n",
       "      <th></th>\n",
       "      <th></th>\n",
       "      <th></th>\n",
       "      <th></th>\n",
       "    </tr>\n",
       "  </thead>\n",
       "  <tbody>\n",
       "    <tr>\n",
       "      <th>169939030</th>\n",
       "      <td>кассир в пиццерию г витебск</td>\n",
       "      <td>&lt;p&gt;&lt;strong&gt;Устал искать работу? Может, хочешь ...</td>\n",
       "      <td>5223</td>\n",
       "      <td>:принимать и выдавать заказы, расчет с гостями...</td>\n",
       "      <td>от ТЕБЯ:желание обучиться работе с оборудован...</td>\n",
       "      <td>Кассир в пиццерию, г. Витебск</td>\n",
       "    </tr>\n",
       "    <tr>\n",
       "      <th>169293782</th>\n",
       "      <td>продавец консультант yota (тц галерея)</td>\n",
       "      <td>&lt;p&gt;За любыми достижениями нашей компании в пер...</td>\n",
       "      <td>5223</td>\n",
       "      <td>:Рассказывать людям о Yota Продавать устройств...</td>\n",
       "      <td>None</td>\n",
       "      <td>Продавец-консультант Yota (ТЦ Галерея)</td>\n",
       "    </tr>\n",
       "    <tr>\n",
       "      <th>291073919</th>\n",
       "      <td>электросварщик накс ск (п 1 г норильск)</td>\n",
       "      <td>&lt;p&gt;Группе компаний КСК на промышленный объект ...</td>\n",
       "      <td>7212</td>\n",
       "      <td>ручная дуговая сварка (рд) сварка и монтаж мет...</td>\n",
       "      <td>оформление согласно тк рф стабильная выплата з...</td>\n",
       "      <td>Электросварщик НАКС СК (п.1, г. Норильск)</td>\n",
       "    </tr>\n",
       "  </tbody>\n",
       "</table>\n",
       "</div>"
      ],
      "text/plain": [
       "                                              name  \\\n",
       "index                                                \n",
       "169939030              кассир в пиццерию г витебск   \n",
       "169293782   продавец консультант yota (тц галерея)   \n",
       "291073919  электросварщик накс ск (п 1 г норильск)   \n",
       "\n",
       "                                                 description  target  \\\n",
       "index                                                                  \n",
       "169939030  <p><strong>Устал искать работу? Может, хочешь ...    5223   \n",
       "169293782  <p>За любыми достижениями нашей компании в пер...    5223   \n",
       "291073919  <p>Группе компаний КСК на промышленный объект ...    7212   \n",
       "\n",
       "                                            responsibilities  \\\n",
       "index                                                          \n",
       "169939030  :принимать и выдавать заказы, расчет с гостями...   \n",
       "169293782  :Рассказывать людям о Yota Продавать устройств...   \n",
       "291073919  ручная дуговая сварка (рд) сварка и монтаж мет...   \n",
       "\n",
       "                                                requirements  \\\n",
       "index                                                          \n",
       "169939030   от ТЕБЯ:желание обучиться работе с оборудован...   \n",
       "169293782                                               None   \n",
       "291073919  оформление согласно тк рф стабильная выплата з...   \n",
       "\n",
       "                                           positions  \n",
       "index                                                 \n",
       "169939030              Кассир в пиццерию, г. Витебск  \n",
       "169293782     Продавец-консультант Yota (ТЦ Галерея)  \n",
       "291073919  Электросварщик НАКС СК (п.1, г. Норильск)  "
      ]
     },
     "metadata": {},
     "output_type": "display_data"
    },
    {
     "name": "stdout",
     "output_type": "stream",
     "text": [
      "<class 'pandas.core.frame.DataFrame'>\n",
      "Int64Index: 15650 entries, 169939030 to 39324585\n",
      "Data columns (total 6 columns):\n",
      " #   Column            Non-Null Count  Dtype \n",
      "---  ------            --------------  ----- \n",
      " 0   name              15650 non-null  object\n",
      " 1   description       15645 non-null  object\n",
      " 2   target            15650 non-null  int64 \n",
      " 3   responsibilities  13339 non-null  object\n",
      " 4   requirements      12643 non-null  object\n",
      " 5   positions         14936 non-null  object\n",
      "dtypes: int64(1), object(5)\n",
      "memory usage: 855.9+ KB\n"
     ]
    },
    {
     "data": {
      "text/plain": [
       "None"
      ]
     },
     "metadata": {},
     "output_type": "display_data"
    }
   ],
   "source": [
    "train[\"responsibilities\"] = responsibilities_ans\n",
    "train[\"requirements\"] = requirements_ans\n",
    "train[\"positions\"] = positions_ans\n",
    "display(train.head(3))\n",
    "display(train.info())"
   ]
  },
  {
   "cell_type": "markdown",
   "id": "23ca3748",
   "metadata": {},
   "source": [
    "3. Объединим два столбца: `name` и `responsibilities`,`requirements`, `position`. Строки в столбцах которых  содержатся пропуски, заполним при помощи метода `fillna`. Приведем полученный столбец к нижнему регистру."
   ]
  },
  {
   "cell_type": "code",
   "execution_count": 7,
   "id": "313fc34b",
   "metadata": {},
   "outputs": [
    {
     "name": "stderr",
     "output_type": "stream",
     "text": [
      "<ipython-input-7-fe09f83171bc>:1: SettingWithCopyWarning: \n",
      "A value is trying to be set on a copy of a slice from a DataFrame.\n",
      "Try using .loc[row_indexer,col_indexer] = value instead\n",
      "\n",
      "See the caveats in the documentation: https://pandas.pydata.org/pandas-docs/stable/user_guide/indexing.html#returning-a-view-versus-a-copy\n",
      "  train[\"full_description\"] = (\n"
     ]
    },
    {
     "data": {
      "text/html": [
       "<div>\n",
       "<style scoped>\n",
       "    .dataframe tbody tr th:only-of-type {\n",
       "        vertical-align: middle;\n",
       "    }\n",
       "\n",
       "    .dataframe tbody tr th {\n",
       "        vertical-align: top;\n",
       "    }\n",
       "\n",
       "    .dataframe thead th {\n",
       "        text-align: right;\n",
       "    }\n",
       "</style>\n",
       "<table border=\"1\" class=\"dataframe\">\n",
       "  <thead>\n",
       "    <tr style=\"text-align: right;\">\n",
       "      <th></th>\n",
       "      <th>name</th>\n",
       "      <th>description</th>\n",
       "      <th>target</th>\n",
       "      <th>responsibilities</th>\n",
       "      <th>requirements</th>\n",
       "      <th>positions</th>\n",
       "      <th>full_description</th>\n",
       "    </tr>\n",
       "    <tr>\n",
       "      <th>index</th>\n",
       "      <th></th>\n",
       "      <th></th>\n",
       "      <th></th>\n",
       "      <th></th>\n",
       "      <th></th>\n",
       "      <th></th>\n",
       "      <th></th>\n",
       "    </tr>\n",
       "  </thead>\n",
       "  <tbody>\n",
       "    <tr>\n",
       "      <th>169939030</th>\n",
       "      <td>кассир в пиццерию г витебск</td>\n",
       "      <td>&lt;p&gt;&lt;strong&gt;Устал искать работу? Может, хочешь ...</td>\n",
       "      <td>5223</td>\n",
       "      <td>:принимать и выдавать заказы, расчет с гостями...</td>\n",
       "      <td>от ТЕБЯ:желание обучиться работе с оборудован...</td>\n",
       "      <td>Кассир в пиццерию, г. Витебск</td>\n",
       "      <td>кассир в пиццерию г витебск  от тебя:желание о...</td>\n",
       "    </tr>\n",
       "    <tr>\n",
       "      <th>169293782</th>\n",
       "      <td>продавец консультант yota (тц галерея)</td>\n",
       "      <td>&lt;p&gt;За любыми достижениями нашей компании в пер...</td>\n",
       "      <td>5223</td>\n",
       "      <td>:Рассказывать людям о Yota Продавать устройств...</td>\n",
       "      <td>None</td>\n",
       "      <td>Продавец-консультант Yota (ТЦ Галерея)</td>\n",
       "      <td>продавец консультант yota (тц галерея)  :расск...</td>\n",
       "    </tr>\n",
       "    <tr>\n",
       "      <th>291073919</th>\n",
       "      <td>электросварщик накс ск (п 1 г норильск)</td>\n",
       "      <td>&lt;p&gt;Группе компаний КСК на промышленный объект ...</td>\n",
       "      <td>7212</td>\n",
       "      <td>ручная дуговая сварка (рд) сварка и монтаж мет...</td>\n",
       "      <td>оформление согласно тк рф стабильная выплата з...</td>\n",
       "      <td>Электросварщик НАКС СК (п.1, г. Норильск)</td>\n",
       "      <td>электросварщик накс ск (п 1 г норильск) оформл...</td>\n",
       "    </tr>\n",
       "    <tr>\n",
       "      <th>179260831</th>\n",
       "      <td>кассир</td>\n",
       "      <td>Правила приема и проведения расчетных и конвер...</td>\n",
       "      <td>5223</td>\n",
       "      <td>Правила приема и проведения расчетных и конвер...</td>\n",
       "      <td>Знание програграммы 1 С, добросовестное отноше...</td>\n",
       "      <td>Кассир</td>\n",
       "      <td>кассир знание програграммы 1 с, добросовестное...</td>\n",
       "    </tr>\n",
       "    <tr>\n",
       "      <th>39608878</th>\n",
       "      <td>оператор машинного доения</td>\n",
       "      <td>Выполнять все виды работ, связанные с производ...</td>\n",
       "      <td>6121</td>\n",
       "      <td>Выполнять Все Виды Работ, Связанные С Производ...</td>\n",
       "      <td>Ответственность</td>\n",
       "      <td>Оператор машинного доения</td>\n",
       "      <td>оператор машинного доения ответственность выпо...</td>\n",
       "    </tr>\n",
       "    <tr>\n",
       "      <th>278741128</th>\n",
       "      <td>повар шашлычник</td>\n",
       "      <td>&lt;ul&gt;&lt;li&gt;Приготовление шашлыка&lt;/li&gt;&lt;li&gt;Поддержа...</td>\n",
       "      <td>5120</td>\n",
       "      <td>приготовление шашлыкаподдержание чистоты на ра...</td>\n",
       "      <td>опыт работы в аналогичной должности от 3-х лет...</td>\n",
       "      <td>Повар-шашлычник</td>\n",
       "      <td>повар шашлычник опыт работы в аналогичной долж...</td>\n",
       "    </tr>\n",
       "    <tr>\n",
       "      <th>66104737</th>\n",
       "      <td>врач кардиолог</td>\n",
       "      <td>выполнение работ по оказанию постоянной, неотл...</td>\n",
       "      <td>2211</td>\n",
       "      <td>выполнение работ по оказанию постоянной, неотл...</td>\n",
       "      <td>высшее медицинское образование по профилю, нал...</td>\n",
       "      <td>Врач-кардиолог</td>\n",
       "      <td>врач кардиолог высшее медицинское образование ...</td>\n",
       "    </tr>\n",
       "    <tr>\n",
       "      <th>32686340</th>\n",
       "      <td>доярка дояр</td>\n",
       "      <td>&lt;strong&gt;Обязанности:&lt;/strong&gt; &lt;ul&gt; &lt;li&gt;Дойка и...</td>\n",
       "      <td>6121</td>\n",
       "      <td>Дойка и уход за стадом 50 двойных коз Дойка ап...</td>\n",
       "      <td>Аккуратность Знание и умения Любовь к животным...</td>\n",
       "      <td>Доярка/дояр</td>\n",
       "      <td>доярка дояр аккуратность знание и умения любов...</td>\n",
       "    </tr>\n",
       "    <tr>\n",
       "      <th>27380570</th>\n",
       "      <td>массажист</td>\n",
       "      <td>&lt;strong&gt;Обязанности:&lt;/strong&gt; &lt;ul&gt; &lt;li&gt;Выполне...</td>\n",
       "      <td>3255</td>\n",
       "      <td>Выполнение классического лечебного массажа Точ...</td>\n",
       "      <td>Медицинское образование Действующий сертификат...</td>\n",
       "      <td>Массажист</td>\n",
       "      <td>массажист медицинское образование действующий ...</td>\n",
       "    </tr>\n",
       "    <tr>\n",
       "      <th>31310013</th>\n",
       "      <td>грузчик</td>\n",
       "      <td>&lt;p&gt;&lt;strong&gt;Если вы ответственный, исполнительн...</td>\n",
       "      <td>9333</td>\n",
       "      <td>NaN</td>\n",
       "      <td>NaN</td>\n",
       "      <td>NaN</td>\n",
       "      <td>грузчик</td>\n",
       "    </tr>\n",
       "  </tbody>\n",
       "</table>\n",
       "</div>"
      ],
      "text/plain": [
       "                                              name  \\\n",
       "index                                                \n",
       "169939030              кассир в пиццерию г витебск   \n",
       "169293782   продавец консультант yota (тц галерея)   \n",
       "291073919  электросварщик накс ск (п 1 г норильск)   \n",
       "179260831                                   кассир   \n",
       "39608878                 оператор машинного доения   \n",
       "278741128                          повар шашлычник   \n",
       "66104737                            врач кардиолог   \n",
       "32686340                               доярка дояр   \n",
       "27380570                                 массажист   \n",
       "31310013                                   грузчик   \n",
       "\n",
       "                                                 description  target  \\\n",
       "index                                                                  \n",
       "169939030  <p><strong>Устал искать работу? Может, хочешь ...    5223   \n",
       "169293782  <p>За любыми достижениями нашей компании в пер...    5223   \n",
       "291073919  <p>Группе компаний КСК на промышленный объект ...    7212   \n",
       "179260831  Правила приема и проведения расчетных и конвер...    5223   \n",
       "39608878   Выполнять все виды работ, связанные с производ...    6121   \n",
       "278741128  <ul><li>Приготовление шашлыка</li><li>Поддержа...    5120   \n",
       "66104737   выполнение работ по оказанию постоянной, неотл...    2211   \n",
       "32686340   <strong>Обязанности:</strong> <ul> <li>Дойка и...    6121   \n",
       "27380570   <strong>Обязанности:</strong> <ul> <li>Выполне...    3255   \n",
       "31310013   <p><strong>Если вы ответственный, исполнительн...    9333   \n",
       "\n",
       "                                            responsibilities  \\\n",
       "index                                                          \n",
       "169939030  :принимать и выдавать заказы, расчет с гостями...   \n",
       "169293782  :Рассказывать людям о Yota Продавать устройств...   \n",
       "291073919  ручная дуговая сварка (рд) сварка и монтаж мет...   \n",
       "179260831  Правила приема и проведения расчетных и конвер...   \n",
       "39608878   Выполнять Все Виды Работ, Связанные С Производ...   \n",
       "278741128  приготовление шашлыкаподдержание чистоты на ра...   \n",
       "66104737   выполнение работ по оказанию постоянной, неотл...   \n",
       "32686340   Дойка и уход за стадом 50 двойных коз Дойка ап...   \n",
       "27380570   Выполнение классического лечебного массажа Точ...   \n",
       "31310013                                                 NaN   \n",
       "\n",
       "                                                requirements  \\\n",
       "index                                                          \n",
       "169939030   от ТЕБЯ:желание обучиться работе с оборудован...   \n",
       "169293782                                               None   \n",
       "291073919  оформление согласно тк рф стабильная выплата з...   \n",
       "179260831  Знание програграммы 1 С, добросовестное отноше...   \n",
       "39608878                                     Ответственность   \n",
       "278741128  опыт работы в аналогичной должности от 3-х лет...   \n",
       "66104737   высшее медицинское образование по профилю, нал...   \n",
       "32686340   Аккуратность Знание и умения Любовь к животным...   \n",
       "27380570   Медицинское образование Действующий сертификат...   \n",
       "31310013                                                 NaN   \n",
       "\n",
       "                                           positions  \\\n",
       "index                                                  \n",
       "169939030              Кассир в пиццерию, г. Витебск   \n",
       "169293782     Продавец-консультант Yota (ТЦ Галерея)   \n",
       "291073919  Электросварщик НАКС СК (п.1, г. Норильск)   \n",
       "179260831                                     Кассир   \n",
       "39608878                   Оператор машинного доения   \n",
       "278741128                            Повар-шашлычник   \n",
       "66104737                              Врач-кардиолог   \n",
       "32686340                                 Доярка/дояр   \n",
       "27380570                                   Массажист   \n",
       "31310013                                         NaN   \n",
       "\n",
       "                                            full_description  \n",
       "index                                                         \n",
       "169939030  кассир в пиццерию г витебск  от тебя:желание о...  \n",
       "169293782  продавец консультант yota (тц галерея)  :расск...  \n",
       "291073919  электросварщик накс ск (п 1 г норильск) оформл...  \n",
       "179260831  кассир знание програграммы 1 с, добросовестное...  \n",
       "39608878   оператор машинного доения ответственность выпо...  \n",
       "278741128  повар шашлычник опыт работы в аналогичной долж...  \n",
       "66104737   врач кардиолог высшее медицинское образование ...  \n",
       "32686340   доярка дояр аккуратность знание и умения любов...  \n",
       "27380570   массажист медицинское образование действующий ...  \n",
       "31310013                                          грузчик     "
      ]
     },
     "metadata": {},
     "output_type": "display_data"
    }
   ],
   "source": [
    "train[\"full_description\"] = (\n",
    "    train[\"name\"] + \" \" + train[\"requirements\"].fillna(\"\") + \" \" + train[\"responsibilities\"].fillna(\"\")\n",
    "    + \" \" + train[\"positions\"].fillna(\"\") \n",
    ").map(str.lower)\n",
    "\n",
    "display(train.head(10))"
   ]
  },
  {
   "cell_type": "markdown",
   "id": "bf964f0f",
   "metadata": {},
   "source": [
    "## Предобработка: 2. Очистка текстовых данных\n",
    "\n",
    "Текстовые данные часто содержат много лишней информации, которая мешает модели обучаться. Почистим данные: для демонстрации уберем знаки препинания из текста. Для этого воспользуемся механизмом регулярных выражений.\n",
    "\n",
    "Регулярные выражения (regular expressions, regexp) — формальный язык, используемый в программах, работающих с текстом, для поиска и осуществления манипуляций с подстроками в тексте, основанный на использовании шаблонов, содержащих метасимволы (символы-джокеры, англ. wildcard characters).\n",
    "\n",
    "Очистка текстовых данных, удаление всех нежелательных символов. \n",
    "Удаление всех небуквеных символов. Текстовые данные часто содержат много лишней информации, которая мешает модели обучаться. Почистим данные: для демонстрации уберем знаки препинания из текста. Для этого воспользуемся механизмом регулярных выражений.\n",
    "\n",
    "`<[^>]*>` - удаляем всю HTML размметку  из текста. \n",
    "\n",
    "`[\\W]+` - приводим все буквы к нижнему регистру "
   ]
  },
  {
   "cell_type": "code",
   "execution_count": 8,
   "id": "7156df49",
   "metadata": {},
   "outputs": [],
   "source": [
    "#  функция очистки\n",
    "def preprocessor(text):\n",
    "    text = re.sub('<[^>]*>', '', text)\n",
    "    emoticons = re.findall('(?::|;|=)(?:-)?(?:\\)|\\(|D|P)', text)\n",
    "    text = (re.sub('[\\W]+', ' ', text.lower()) + ''.join(emoticons).replace('-', ''))\n",
    "    return text"
   ]
  },
  {
   "cell_type": "code",
   "execution_count": 9,
   "id": "eafef9ba",
   "metadata": {},
   "outputs": [
    {
     "name": "stderr",
     "output_type": "stream",
     "text": [
      "<ipython-input-9-4f01309e7e60>:2: SettingWithCopyWarning: \n",
      "A value is trying to be set on a copy of a slice from a DataFrame.\n",
      "Try using .loc[row_indexer,col_indexer] = value instead\n",
      "\n",
      "See the caveats in the documentation: https://pandas.pydata.org/pandas-docs/stable/user_guide/indexing.html#returning-a-view-versus-a-copy\n",
      "  train[\"full_description\"] = train[\"full_description\"].apply(preprocessor)\n"
     ]
    }
   ],
   "source": [
    "# применим очистку данных ко всем данным в столбце \"review\"\n",
    "train[\"full_description\"] = train[\"full_description\"].apply(preprocessor)"
   ]
  },
  {
   "cell_type": "code",
   "execution_count": null,
   "id": "ad88633a",
   "metadata": {},
   "outputs": [],
   "source": [
    "display(train[\"full_description\"].head(2))"
   ]
  },
  {
   "cell_type": "markdown",
   "id": "3d66c90b",
   "metadata": {},
   "source": [
    "## 3. Предобработка документов в лексемы\n"
   ]
  },
  {
   "cell_type": "markdown",
   "id": "6fdc02af",
   "metadata": {},
   "source": [
    "###  3.1 Разбиваем текст на токены  + добавляем упрощённые формы "
   ]
  },
  {
   "cell_type": "code",
   "execution_count": 12,
   "id": "120fd599",
   "metadata": {},
   "outputs": [],
   "source": [
    "# пример разбиваем текст на токены  + добавляем упрощённые формы \n",
    "\n",
    "morph = pymorphy2.MorphAnalyzer()\n",
    "\n",
    "# пример разделение предложение на слова\n",
    "def tokenizer(text):\n",
    "    return text.split()\n",
    "\n",
    "# пример сокращает слова до корневой формы\n",
    "def tokenizer_morphy(text):\n",
    "    return [morph.parse(word)[0].normal_form for word in text.split()]\n"
   ]
  },
  {
   "cell_type": "code",
   "execution_count": null,
   "id": "afeeff3c",
   "metadata": {},
   "outputs": [],
   "source": [
    "# проверка работы токенезатора и упрошения формы слова\n",
    "tokenizer_morphy('кассир в пиццерию г витебск принимать')\n"
   ]
  },
  {
   "cell_type": "markdown",
   "id": "968579c6",
   "metadata": {},
   "source": [
    "###  3.2 Удаление стоп-слов\n",
    "\n",
    "Стоп-слова, такие слова которые не несут в себе полезной информации"
   ]
  },
  {
   "cell_type": "code",
   "execution_count": 13,
   "id": "c2d76f3d",
   "metadata": {},
   "outputs": [
    {
     "name": "stderr",
     "output_type": "stream",
     "text": [
      "[nltk_data] Downloading package stopwords to\n",
      "[nltk_data]     C:\\Users\\_username_\\AppData\\Roaming\\nltk_data...\n",
      "[nltk_data]   Package stopwords is already up-to-date!\n"
     ]
    },
    {
     "data": {
      "text/plain": [
       "True"
      ]
     },
     "execution_count": 13,
     "metadata": {},
     "output_type": "execute_result"
    }
   ],
   "source": [
    "import nltk\n",
    "from nltk.corpus import stopwords\n",
    "\n",
    "nltk.download('stopwords')"
   ]
  },
  {
   "cell_type": "code",
   "execution_count": 14,
   "id": "14789f76",
   "metadata": {},
   "outputs": [
    {
     "data": {
      "text/plain": [
       "['кассир', 'пиццерию', 'г', 'витебск', 'принимать']"
      ]
     },
     "execution_count": 14,
     "metadata": {},
     "output_type": "execute_result"
    }
   ],
   "source": [
    "# исключение стоп слова для РУСССКИЕ СТОП СЛОВА\n",
    "stop = stopwords.words('russian')\n",
    "[w for w in tokenizer(\"кассир в пиццерию г витебск принимать\") if w not in stop]"
   ]
  },
  {
   "cell_type": "markdown",
   "id": "332251b1",
   "metadata": {},
   "source": [
    "## 4. Построение модели"
   ]
  },
  {
   "cell_type": "code",
   "execution_count": 15,
   "id": "65a85361",
   "metadata": {},
   "outputs": [],
   "source": [
    "X_train, y_train = train[\"full_description\"], train[\"target\"]\n",
    "X_train, X_validation, y_train, y_validation = train_test_split(X_train, y_train, train_size=0.80, random_state=42)"
   ]
  },
  {
   "cell_type": "code",
   "execution_count": 16,
   "id": "10bee5cd",
   "metadata": {},
   "outputs": [
    {
     "data": {
      "text/plain": [
       "(index\n",
       " 208567164    заведующий фельдшерско акушерским пунктом фель...\n",
       " 168194654    врач терапевт участковый наличие сертификата с...\n",
       " 30933029     продавец кассир иваново улица дзержинского 12 ...\n",
       " 165512246    бухгалтер опыт работы более 5 лет 1с бухгалтер...\n",
       " 171374966    логист знание программы 1с опыт работы с транс...\n",
       "                                    ...                        \n",
       " 170920388    дворник ответственный дисциплинированный уборк...\n",
       " 255988612    заместитель директора магазина тавда ленина 46...\n",
       " 111422926    фрезеровщик опыт работы от трех лет чтение чер...\n",
       " 126596983    оператор по искусственному осеменению животных...\n",
       " 114907480    бухгалтер знание осн усн уверенный пользовател...\n",
       " Name: full_description, Length: 12520, dtype: object,\n",
       " index\n",
       " 208567164    2240\n",
       " 168194654    2211\n",
       " 30933029     5223\n",
       " 165512246    2411\n",
       " 171374966    4323\n",
       " Name: target, dtype: int64)"
      ]
     },
     "execution_count": 16,
     "metadata": {},
     "output_type": "execute_result"
    }
   ],
   "source": [
    "X_train, y_train.head()"
   ]
  },
  {
   "cell_type": "markdown",
   "id": "aa72d494",
   "metadata": {},
   "source": [
    "* Воспользуемся Tfidf\n",
    "Подход для снижения веса часто встречающихся слов в векторах признаков, обратная частота документа (term frequency - inverse document freq - tf-idf).\n",
    "\n",
    "* устанавим n_jobs=-1 (вместо n_jobs=1), чтобы задействовать все свободные процессорные ядра и ускорить решетчатый поиск\n",
    "\n"
   ]
  },
  {
   "cell_type": "code",
   "execution_count": 20,
   "id": "22c2d710",
   "metadata": {},
   "outputs": [],
   "source": [
    "# !!!тюнинг параметров\n",
    "tfidf = TfidfVectorizer(strip_accents=None,\n",
    "                        lowercase=False,\n",
    "                        preprocessor=None)\n",
    "\n",
    "small_param_grid = [{'vect__ngram_range': [(1, 2)],\n",
    "                     'vect__stop_words': [stop, None],\n",
    "                     'vect__tokenizer': [tokenizer_morphy, tokenizer],\n",
    "                     'vect__use_idf':[True, False],\n",
    "                     'vect__norm':[None],\n",
    "                     'clf__penalty': ['l2'],\n",
    "                  'clf__C': [1.0, 0.1],\n",
    "                'clf__max_iter':[100, 150]\n",
    "                    }\n",
    "              ]\n",
    "\n",
    "lr_tfidf = Pipeline([('vect', tfidf),\n",
    "                     ('clf', LogisticRegression(multi_class='multinomial', solver='lbfgs'))])\n",
    "\n",
    "gs_lr_tfidf = GridSearchCV(lr_tfidf, small_param_grid,\n",
    "                           scoring='accuracy',\n",
    "                           cv=3,\n",
    "                           verbose=1,\n",
    "                           n_jobs=-1)"
   ]
  },
  {
   "cell_type": "code",
   "execution_count": 15,
   "id": "4be2cc28",
   "metadata": {},
   "outputs": [],
   "source": [
    "# с оптимизатором newton_cg (вторая модель)\n",
    "\n",
    "# tfidf = TfidfVectorizer(strip_accents=None,\n",
    "#                         lowercase=False,\n",
    "#                         preprocessor=None)\n",
    "\n",
    "# small_param_grid = [{'vect__ngram_range': [(1, 3)],\n",
    "#                      'vect__stop_words': [stop],\n",
    "#                      'vect__tokenizer': [tokenizer_morphy],\n",
    "#                      'vect__use_idf':[True],\n",
    "#                      'vect__norm':[None],\n",
    "#                      'clf__penalty': ['l2'],\n",
    "#                      'clf__C': [0.1],\n",
    "#                      'clf__max_iter':[20, 50, 100]\n",
    "                     \n",
    "#                     }\n",
    "\n",
    "#               ]\n",
    "\n",
    "# lr_tfidf = Pipeline([('vect', tfidf),\n",
    "#                      ('clf', LogisticRegression(multi_class='multinomial', solver ='newton-cg'))])\n",
    "\n",
    "# gs_lr_tfidf = GridSearchCV(lr_tfidf, small_param_grid,\n",
    "#                            scoring='accuracy',\n",
    "#                            cv=3,\n",
    "#                            verbose=1,\n",
    "#                            n_jobs=-1)"
   ]
  },
  {
   "cell_type": "code",
   "execution_count": 21,
   "id": "1c5ee917",
   "metadata": {},
   "outputs": [
    {
     "name": "stdout",
     "output_type": "stream",
     "text": [
      "Fitting 3 folds for each of 1 candidates, totalling 3 fits\n"
     ]
    },
    {
     "name": "stderr",
     "output_type": "stream",
     "text": [
      "c:\\users\\_username_\\appdata\\local\\programs\\python\\python38\\lib\\site-packages\\sklearn\\model_selection\\_split.py:666: UserWarning: The least populated class in y has only 1 members, which is less than n_splits=3.\n",
      "  warnings.warn((\"The least populated class in y has only %d\"\n",
      "c:\\users\\_username_\\appdata\\local\\programs\\python\\python38\\lib\\site-packages\\sklearn\\feature_extraction\\text.py:388: UserWarning: Your stop_words may be inconsistent with your preprocessing. Tokenizing the stop words generated tokens ['большой', 'весь', 'всё', 'ещё', 'мочь', 'нибыть', 'свой', 'хороший', 'это'] not in stop_words.\n",
      "  warnings.warn('Your stop_words may be inconsistent with '\n",
      "c:\\users\\_username_\\appdata\\local\\programs\\python\\python38\\lib\\site-packages\\sklearn\\linear_model\\_logistic.py:763: ConvergenceWarning: lbfgs failed to converge (status=1):\n",
      "STOP: TOTAL NO. of ITERATIONS REACHED LIMIT.\n",
      "\n",
      "Increase the number of iterations (max_iter) or scale the data as shown in:\n",
      "    https://scikit-learn.org/stable/modules/preprocessing.html\n",
      "Please also refer to the documentation for alternative solver options:\n",
      "    https://scikit-learn.org/stable/modules/linear_model.html#logistic-regression\n",
      "  n_iter_i = _check_optimize_result(\n"
     ]
    },
    {
     "data": {
      "text/plain": [
       "GridSearchCV(cv=3,\n",
       "             estimator=Pipeline(steps=[('vect',\n",
       "                                        TfidfVectorizer(lowercase=False)),\n",
       "                                       ('clf',\n",
       "                                        LogisticRegression(multi_class='multinomial'))]),\n",
       "             n_jobs=-1,\n",
       "             param_grid=[{'clf__C': [1.0], 'clf__penalty': ['l2'],\n",
       "                          'vect__ngram_range': [(1, 2)], 'vect__norm': [None],\n",
       "                          'vect__stop_words': [['и', 'в', 'во', 'не', 'что',\n",
       "                                                'он', 'на', 'я', 'с', 'со',\n",
       "                                                'как', 'а', 'то', 'все', 'она',\n",
       "                                                'так', 'его', 'но', 'да', 'ты',\n",
       "                                                'к', 'у', 'же', 'вы', 'за',\n",
       "                                                'бы', 'по', 'только', 'ее',\n",
       "                                                'мне', ...]],\n",
       "                          'vect__tokenizer': [<function tokenizer_morphy at 0x000002E95B5F8310>],\n",
       "                          'vect__use_idf': [True]}],\n",
       "             scoring='accuracy', verbose=1)"
      ]
     },
     "execution_count": 21,
     "metadata": {},
     "output_type": "execute_result"
    }
   ],
   "source": [
    "# ОСТОРОЖНО !!! ДОЛГИЕ ВЫЧИСЛЕНИЯ\n",
    "gs_lr_tfidf.fit(X_train, y_train)"
   ]
  },
  {
   "cell_type": "code",
   "execution_count": 22,
   "id": "8cadd13c",
   "metadata": {},
   "outputs": [
    {
     "name": "stdout",
     "output_type": "stream",
     "text": [
      "Best parameter set: {'clf__C': 1.0, 'clf__penalty': 'l2', 'vect__ngram_range': (1, 2), 'vect__norm': None, 'vect__stop_words': ['и', 'в', 'во', 'не', 'что', 'он', 'на', 'я', 'с', 'со', 'как', 'а', 'то', 'все', 'она', 'так', 'его', 'но', 'да', 'ты', 'к', 'у', 'же', 'вы', 'за', 'бы', 'по', 'только', 'ее', 'мне', 'было', 'вот', 'от', 'меня', 'еще', 'нет', 'о', 'из', 'ему', 'теперь', 'когда', 'даже', 'ну', 'вдруг', 'ли', 'если', 'уже', 'или', 'ни', 'быть', 'был', 'него', 'до', 'вас', 'нибудь', 'опять', 'уж', 'вам', 'ведь', 'там', 'потом', 'себя', 'ничего', 'ей', 'может', 'они', 'тут', 'где', 'есть', 'надо', 'ней', 'для', 'мы', 'тебя', 'их', 'чем', 'была', 'сам', 'чтоб', 'без', 'будто', 'чего', 'раз', 'тоже', 'себе', 'под', 'будет', 'ж', 'тогда', 'кто', 'этот', 'того', 'потому', 'этого', 'какой', 'совсем', 'ним', 'здесь', 'этом', 'один', 'почти', 'мой', 'тем', 'чтобы', 'нее', 'сейчас', 'были', 'куда', 'зачем', 'всех', 'никогда', 'можно', 'при', 'наконец', 'два', 'об', 'другой', 'хоть', 'после', 'над', 'больше', 'тот', 'через', 'эти', 'нас', 'про', 'всего', 'них', 'какая', 'много', 'разве', 'три', 'эту', 'моя', 'впрочем', 'хорошо', 'свою', 'этой', 'перед', 'иногда', 'лучше', 'чуть', 'том', 'нельзя', 'такой', 'им', 'более', 'всегда', 'конечно', 'всю', 'между'], 'vect__tokenizer': <function tokenizer_morphy at 0x000002E95B5F8310>, 'vect__use_idf': True}\n",
      "CV Accuracy: 0.967\n"
     ]
    }
   ],
   "source": [
    "# TRAIN ACCURACY\n",
    "# при бинарной класс 0.965\n",
    "print(f'Best parameter set: {gs_lr_tfidf.best_params_}')\n",
    "print(f'CV Accuracy: {gs_lr_tfidf.best_score_:.3f}')"
   ]
  },
  {
   "cell_type": "code",
   "execution_count": 23,
   "id": "fd53e0e9",
   "metadata": {},
   "outputs": [
    {
     "name": "stdout",
     "output_type": "stream",
     "text": [
      "Test Accuracy: 0.961\n"
     ]
    }
   ],
   "source": [
    "clf = gs_lr_tfidf.best_estimator_\n",
    "print(f'Test Accuracy: {clf.score(X_validation, y_validation):.3f}')\n",
    "# print(f'Train Accuracy: {clf.score(X_train, y_train):.3f}')"
   ]
  },
  {
   "cell_type": "code",
   "execution_count": 24,
   "id": "de330ba3",
   "metadata": {},
   "outputs": [
    {
     "data": {
      "text/plain": [
       "['lbfgs_model_lr_last.pkl']"
      ]
     },
     "execution_count": 24,
     "metadata": {},
     "output_type": "execute_result"
    }
   ],
   "source": [
    "# сохранение модели\n",
    "import joblib\n",
    "# joblib.dump(gs_lr_tfidf.best_estimator_, 'lbfgs_model_lr_last.pkl')\n",
    "\n",
    "# загрузка модели \n",
    "# clf = joblib.load(\"newton-cg_model_lr.pkl\")"
   ]
  },
  {
   "cell_type": "markdown",
   "id": "f8bdc754",
   "metadata": {},
   "source": [
    "__РЕЗЮМЕ__\n",
    "\n",
    "\n",
    "logress_lbfgs Acc 0.993 --> Score 0.53 \n",
    "\n",
    "logress_lbfgs на расширенных данных Acc 0.996--> Score 0.54 \n",
    "\n",
    "logress_lbfgs + respons+ requarament Acc 0.996 --> !!!Score 0.54291\n",
    "\n",
    "logress_lbfgs + respons+ requarament + position  Acc -->0.998 !!! Score: 0.55223\n",
    "\n",
    "logress_lbfgs + respons+ requarament + position + расширенные данные Acc 0.998--> !!! 0.5485 ??\n",
    "\n",
    "logress_lbfgs(тюнинг) + respons+ requarament + position + logress_newton_cg(тюнинг): CV Accuracy: 0.993 -->0.569\n"
   ]
  },
  {
   "cell_type": "markdown",
   "id": "7eae1e5c",
   "metadata": {},
   "source": [
    "## 5. Расширение датасета + дообучение + новое предсказание на расширенном датасете\n"
   ]
  },
  {
   "cell_type": "code",
   "execution_count": 32,
   "id": "a62d6d96",
   "metadata": {},
   "outputs": [],
   "source": [
    "big_train  = pd.read_csv(\"data/train.csv\", encoding=\"utf-8\", index_col=\"index\")\n",
    "big_train = big_train.query(\"target ==-1\")\n",
    "big_train[\"responsibilities\"] = responsibilities_ans\n",
    "big_train[\"requirements\"] = requirements_ans\n",
    "big_train[\"positions\"] = positions_ans\n",
    "big_train[\"full_description\"] = (\n",
    "    big_train[\"name\"] + \" \" + big_train[\"requirements\"].fillna(\"\") + \" \" + big_train[\"responsibilities\"].fillna(\"\")\n",
    "    + \" \" + big_train[\"positions\"].fillna(\"\") \n",
    ").map(str.lower)\n",
    "\n",
    "big_train[\"full_description\"] = big_train[\"full_description\"].apply(preprocessor)\n",
    "X_big_train = big_train[\"full_description\"]\n"
   ]
  },
  {
   "cell_type": "code",
   "execution_count": 33,
   "id": "31a74ac1",
   "metadata": {},
   "outputs": [
    {
     "data": {
      "text/plain": [
       "index\n",
       "324865089    продавец кассир з п 2 раза в месяц своевременн...\n",
       "169467135    продавец мила шевченко 17 коммуникабельность а...\n",
       "31956044     начальник строительного участка знание и соблю...\n",
       "36781653      продавец кассир санкт петербург бухарестская 31 \n",
       "49435567     главный бухгалтер полное ведение бухгалтерског...\n",
       "Name: full_description, dtype: object"
      ]
     },
     "metadata": {},
     "output_type": "display_data"
    },
    {
     "data": {
      "text/plain": [
       "(14350,)"
      ]
     },
     "execution_count": 33,
     "metadata": {},
     "output_type": "execute_result"
    }
   ],
   "source": [
    "display(X_big_train.head())\n",
    "X_big_train.shape"
   ]
  },
  {
   "cell_type": "code",
   "execution_count": 34,
   "id": "0c50b6a4",
   "metadata": {},
   "outputs": [],
   "source": [
    "big_train.to_csv(\"data/big_data_train.csv\")"
   ]
  },
  {
   "cell_type": "code",
   "execution_count": 35,
   "id": "be496a35",
   "metadata": {},
   "outputs": [
    {
     "data": {
      "text/plain": [
       "(14350,)"
      ]
     },
     "execution_count": 35,
     "metadata": {},
     "output_type": "execute_result"
    }
   ],
   "source": [
    "# clf = gs_lr_tfidf.best_estimator_\n",
    "big_y_pred = clf.predict(X_big_train)\n",
    "big_y_pred.shape"
   ]
  },
  {
   "cell_type": "code",
   "execution_count": 36,
   "id": "bb4aeb85",
   "metadata": {},
   "outputs": [
    {
     "data": {
      "text/html": [
       "<div>\n",
       "<style scoped>\n",
       "    .dataframe tbody tr th:only-of-type {\n",
       "        vertical-align: middle;\n",
       "    }\n",
       "\n",
       "    .dataframe tbody tr th {\n",
       "        vertical-align: top;\n",
       "    }\n",
       "\n",
       "    .dataframe thead th {\n",
       "        text-align: right;\n",
       "    }\n",
       "</style>\n",
       "<table border=\"1\" class=\"dataframe\">\n",
       "  <thead>\n",
       "    <tr style=\"text-align: right;\">\n",
       "      <th></th>\n",
       "      <th>index</th>\n",
       "      <th>target</th>\n",
       "    </tr>\n",
       "  </thead>\n",
       "  <tbody>\n",
       "    <tr>\n",
       "      <th>0</th>\n",
       "      <td>324865089</td>\n",
       "      <td>5223</td>\n",
       "    </tr>\n",
       "    <tr>\n",
       "      <th>1</th>\n",
       "      <td>169467135</td>\n",
       "      <td>5223</td>\n",
       "    </tr>\n",
       "    <tr>\n",
       "      <th>2</th>\n",
       "      <td>31956044</td>\n",
       "      <td>1323</td>\n",
       "    </tr>\n",
       "    <tr>\n",
       "      <th>3</th>\n",
       "      <td>36781653</td>\n",
       "      <td>5223</td>\n",
       "    </tr>\n",
       "  </tbody>\n",
       "</table>\n",
       "</div>"
      ],
      "text/plain": [
       "       index  target\n",
       "0  324865089    5223\n",
       "1  169467135    5223\n",
       "2   31956044    1323\n",
       "3   36781653    5223"
      ]
     },
     "metadata": {},
     "output_type": "display_data"
    }
   ],
   "source": [
    "big_train.reset_index(inplace= True )\n",
    "submission = big_train[[\"index\"]].assign(target=big_y_pred)\n",
    "display(submission.head(4))\n",
    "submission.to_csv(\"data/big_train.csv\")"
   ]
  },
  {
   "cell_type": "code",
   "execution_count": 37,
   "id": "751d341e",
   "metadata": {},
   "outputs": [],
   "source": [
    "# создание нового трейна1\n",
    "new_df1 = pd.read_csv(\"data/train.csv\", encoding=\"utf-8\", index_col=\"index\")\n",
    "new_df1 = new_df1.query(\"target !=-1\")\n",
    "new_df1.to_csv(\"data/new_train1.csv\")"
   ]
  },
  {
   "cell_type": "code",
   "execution_count": 38,
   "id": "da1dfd9a",
   "metadata": {},
   "outputs": [],
   "source": [
    "# создание нового трейна 2\n",
    "new_df2 = pd.read_csv(\"data/train.csv\", encoding=\"utf-8\", index_col=\"index\")\n",
    "new_df2 = new_df2.query(\"target ==-1\")\n",
    "big_df = pd.read_csv(\"data/big_train.csv\", encoding=\"utf-8\", index_col=\"index\")\n",
    "new_df2[\"target\"] = big_df[\"target\"]\n",
    "new_df2.to_csv(\"data/new_train2.csv\")"
   ]
  },
  {
   "cell_type": "code",
   "execution_count": 39,
   "id": "a737bf56",
   "metadata": {},
   "outputs": [],
   "source": [
    "df1 = pd.read_csv(\"data/new_train1.csv\", encoding=\"utf-8\", index_col=\"index\")\n",
    "df2 = pd.read_csv(\"data/new_train2.csv\", encoding=\"utf-8\", index_col=\"index\")\n",
    "new_df = pd.concat([df1, df2], axis=0)"
   ]
  },
  {
   "cell_type": "code",
   "execution_count": 40,
   "id": "68199fbc",
   "metadata": {},
   "outputs": [],
   "source": [
    "new_df.to_csv(\"data/absolute_train.csv\")"
   ]
  },
  {
   "cell_type": "markdown",
   "id": "762fb4cd",
   "metadata": {},
   "source": [
    "###  5.1  Абсолютный датасет"
   ]
  },
  {
   "cell_type": "code",
   "execution_count": 41,
   "id": "d7c9c86b",
   "metadata": {},
   "outputs": [
    {
     "data": {
      "text/html": [
       "<div>\n",
       "<style scoped>\n",
       "    .dataframe tbody tr th:only-of-type {\n",
       "        vertical-align: middle;\n",
       "    }\n",
       "\n",
       "    .dataframe tbody tr th {\n",
       "        vertical-align: top;\n",
       "    }\n",
       "\n",
       "    .dataframe thead th {\n",
       "        text-align: right;\n",
       "    }\n",
       "</style>\n",
       "<table border=\"1\" class=\"dataframe\">\n",
       "  <thead>\n",
       "    <tr style=\"text-align: right;\">\n",
       "      <th></th>\n",
       "      <th>name</th>\n",
       "      <th>description</th>\n",
       "      <th>target</th>\n",
       "    </tr>\n",
       "    <tr>\n",
       "      <th>index</th>\n",
       "      <th></th>\n",
       "      <th></th>\n",
       "      <th></th>\n",
       "    </tr>\n",
       "  </thead>\n",
       "  <tbody>\n",
       "    <tr>\n",
       "      <th>169939030</th>\n",
       "      <td>кассир в пиццерию г витебск</td>\n",
       "      <td>&lt;p&gt;&lt;strong&gt;Устал искать работу? Может, хочешь ...</td>\n",
       "      <td>5223</td>\n",
       "    </tr>\n",
       "    <tr>\n",
       "      <th>169293782</th>\n",
       "      <td>продавец консультант yota (тц галерея)</td>\n",
       "      <td>&lt;p&gt;За любыми достижениями нашей компании в пер...</td>\n",
       "      <td>5223</td>\n",
       "    </tr>\n",
       "    <tr>\n",
       "      <th>291073919</th>\n",
       "      <td>электросварщик накс ск (п 1 г норильск)</td>\n",
       "      <td>&lt;p&gt;Группе компаний КСК на промышленный объект ...</td>\n",
       "      <td>7212</td>\n",
       "    </tr>\n",
       "    <tr>\n",
       "      <th>179260831</th>\n",
       "      <td>кассир</td>\n",
       "      <td>Правила приема и проведения расчетных и конвер...</td>\n",
       "      <td>5223</td>\n",
       "    </tr>\n",
       "    <tr>\n",
       "      <th>39608878</th>\n",
       "      <td>оператор машинного доения</td>\n",
       "      <td>Выполнять все виды работ, связанные с производ...</td>\n",
       "      <td>6121</td>\n",
       "    </tr>\n",
       "  </tbody>\n",
       "</table>\n",
       "</div>"
      ],
      "text/plain": [
       "                                              name  \\\n",
       "index                                                \n",
       "169939030              кассир в пиццерию г витебск   \n",
       "169293782   продавец консультант yota (тц галерея)   \n",
       "291073919  электросварщик накс ск (п 1 г норильск)   \n",
       "179260831                                   кассир   \n",
       "39608878                 оператор машинного доения   \n",
       "\n",
       "                                                 description  target  \n",
       "index                                                                 \n",
       "169939030  <p><strong>Устал искать работу? Может, хочешь ...    5223  \n",
       "169293782  <p>За любыми достижениями нашей компании в пер...    5223  \n",
       "291073919  <p>Группе компаний КСК на промышленный объект ...    7212  \n",
       "179260831  Правила приема и проведения расчетных и конвер...    5223  \n",
       "39608878   Выполнять все виды работ, связанные с производ...    6121  "
      ]
     },
     "metadata": {},
     "output_type": "display_data"
    }
   ],
   "source": [
    "absolute_df = pd.read_csv(\"data/absolute_train.csv\", encoding=\"utf-8\", index_col=\"index\")\n",
    "display(absolute_df.head())"
   ]
  },
  {
   "cell_type": "markdown",
   "id": "31e0daa9",
   "metadata": {},
   "source": [
    "### 5.2 дообучение и предсказание на расширенных данных\n"
   ]
  },
  {
   "cell_type": "code",
   "execution_count": 42,
   "id": "8acb6ec7",
   "metadata": {},
   "outputs": [],
   "source": [
    "absolute_df  = pd.read_csv(\"data/absolute_train.csv\", encoding=\"utf-8\", index_col=\"index\")\n",
    "absolute_df[\"responsibilities\"] = responsibilities_ans\n",
    "absolute_df[\"requirements\"] = requirements_ans\n",
    "absolute_df[\"positions\"] = positions_ans\n",
    "absolute_df[\"full_description\"] = (\n",
    "    absolute_df[\"name\"] + \" \" + absolute_df[\"requirements\"].fillna(\"\") + \" \" + absolute_df[\"responsibilities\"].fillna(\"\")\n",
    "    + \" \" + absolute_df[\"positions\"].fillna(\"\") \n",
    ").map(str.lower)\n",
    "\n",
    "absolute_df[\"full_description\"] = absolute_df[\"full_description\"].apply(preprocessor)\n",
    "X_absolute_train, y_absolute_train = absolute_df[\"full_description\"], absolute_df[\"target\"]"
   ]
  },
  {
   "cell_type": "code",
   "execution_count": 43,
   "id": "cafd26c8",
   "metadata": {},
   "outputs": [],
   "source": [
    "absolute_df.to_csv(\"data/absolute_full_data.csv\")"
   ]
  },
  {
   "cell_type": "code",
   "execution_count": 44,
   "id": "927cc3d5",
   "metadata": {},
   "outputs": [],
   "source": [
    "absolute_df  = pd.read_csv(\"data/absolute_full_data.csv\", encoding=\"utf-8\", index_col=\"index\")\n",
    "X_absolute_train, y_absolute_train = absolute_df[\"full_description\"], absolute_df[\"target\"]"
   ]
  },
  {
   "cell_type": "code",
   "execution_count": 45,
   "id": "b2ad8508",
   "metadata": {},
   "outputs": [],
   "source": [
    "X_abs_train, X_abs_validation, y_abs_train, y_abs_validation = train_test_split(X_absolute_train, y_absolute_train, train_size=0.85, random_state=42)"
   ]
  },
  {
   "cell_type": "code",
   "execution_count": 46,
   "id": "eb166296",
   "metadata": {},
   "outputs": [
    {
     "data": {
      "text/html": [
       "<div>\n",
       "<style scoped>\n",
       "    .dataframe tbody tr th:only-of-type {\n",
       "        vertical-align: middle;\n",
       "    }\n",
       "\n",
       "    .dataframe tbody tr th {\n",
       "        vertical-align: top;\n",
       "    }\n",
       "\n",
       "    .dataframe thead th {\n",
       "        text-align: right;\n",
       "    }\n",
       "</style>\n",
       "<table border=\"1\" class=\"dataframe\">\n",
       "  <thead>\n",
       "    <tr style=\"text-align: right;\">\n",
       "      <th></th>\n",
       "      <th>name</th>\n",
       "      <th>description</th>\n",
       "      <th>target</th>\n",
       "      <th>responsibilities</th>\n",
       "      <th>requirements</th>\n",
       "      <th>positions</th>\n",
       "      <th>full_description</th>\n",
       "    </tr>\n",
       "    <tr>\n",
       "      <th>index</th>\n",
       "      <th></th>\n",
       "      <th></th>\n",
       "      <th></th>\n",
       "      <th></th>\n",
       "      <th></th>\n",
       "      <th></th>\n",
       "      <th></th>\n",
       "    </tr>\n",
       "  </thead>\n",
       "  <tbody>\n",
       "    <tr>\n",
       "      <th>169939030</th>\n",
       "      <td>кассир в пиццерию г витебск</td>\n",
       "      <td>&lt;p&gt;&lt;strong&gt;Устал искать работу? Может, хочешь ...</td>\n",
       "      <td>5223</td>\n",
       "      <td>:принимать и выдавать заказы, расчет с гостями...</td>\n",
       "      <td>от ТЕБЯ:желание обучиться работе с оборудован...</td>\n",
       "      <td>Кассир в пиццерию, г. Витебск</td>\n",
       "      <td>кассир в пиццерию г витебск от тебя желание об...</td>\n",
       "    </tr>\n",
       "  </tbody>\n",
       "</table>\n",
       "</div>"
      ],
      "text/plain": [
       "                                  name  \\\n",
       "index                                    \n",
       "169939030  кассир в пиццерию г витебск   \n",
       "\n",
       "                                                 description  target  \\\n",
       "index                                                                  \n",
       "169939030  <p><strong>Устал искать работу? Может, хочешь ...    5223   \n",
       "\n",
       "                                            responsibilities  \\\n",
       "index                                                          \n",
       "169939030  :принимать и выдавать заказы, расчет с гостями...   \n",
       "\n",
       "                                                requirements  \\\n",
       "index                                                          \n",
       "169939030   от ТЕБЯ:желание обучиться работе с оборудован...   \n",
       "\n",
       "                               positions  \\\n",
       "index                                      \n",
       "169939030  Кассир в пиццерию, г. Витебск   \n",
       "\n",
       "                                            full_description  \n",
       "index                                                         \n",
       "169939030  кассир в пиццерию г витебск от тебя желание об...  "
      ]
     },
     "metadata": {},
     "output_type": "display_data"
    },
    {
     "data": {
      "text/plain": [
       "(None, (30000, 7))"
      ]
     },
     "execution_count": 46,
     "metadata": {},
     "output_type": "execute_result"
    }
   ],
   "source": [
    "display(absolute_df.head(1)), absolute_df.shape"
   ]
  },
  {
   "cell_type": "code",
   "execution_count": null,
   "id": "01c985fe",
   "metadata": {},
   "outputs": [],
   "source": [
    "# разбивка датасета\n",
    "# X_xgtrain, y_xgtrain = xgtrain[\"full_description\"], xgtrain[\"target\"]\n",
    "# X_train, X_validation, y_train, y_validation = train_test_split(X_xgtrain, y_xgtrain, train_size=0.85, random_state=42)"
   ]
  },
  {
   "cell_type": "code",
   "execution_count": 51,
   "id": "fa9973db",
   "metadata": {},
   "outputs": [
    {
     "name": "stderr",
     "output_type": "stream",
     "text": [
      "c:\\users\\_username_\\appdata\\local\\programs\\python\\python38\\lib\\site-packages\\sklearn\\feature_extraction\\text.py:388: UserWarning: Your stop_words may be inconsistent with your preprocessing. Tokenizing the stop words generated tokens ['большой', 'весь', 'всё', 'ещё', 'мочь', 'нибыть', 'свой', 'хороший', 'это'] not in stop_words.\n",
      "  warnings.warn('Your stop_words may be inconsistent with '\n",
      "c:\\users\\_username_\\appdata\\local\\programs\\python\\python38\\lib\\site-packages\\sklearn\\utils\\optimize.py:202: ConvergenceWarning: newton-cg failed to converge. Increase the number of iterations.\n",
      "  warnings.warn(\"newton-cg failed to converge. Increase the \"\n"
     ]
    },
    {
     "data": {
      "text/plain": [
       "Pipeline(steps=[('vect',\n",
       "                 TfidfVectorizer(lowercase=False, ngram_range=(1, 3), norm=None,\n",
       "                                 stop_words=['и', 'в', 'во', 'не', 'что', 'он',\n",
       "                                             'на', 'я', 'с', 'со', 'как', 'а',\n",
       "                                             'то', 'все', 'она', 'так', 'его',\n",
       "                                             'но', 'да', 'ты', 'к', 'у', 'же',\n",
       "                                             'вы', 'за', 'бы', 'по', 'только',\n",
       "                                             'ее', 'мне', ...],\n",
       "                                 tokenizer=<function tokenizer_morphy at 0x000002E95B5F8310>)),\n",
       "                ('clf',\n",
       "                 LogisticRegression(C=0.1, max_iter=20,\n",
       "                                    multi_class='multinomial',\n",
       "                                    solver='newton-cg'))])"
      ]
     },
     "execution_count": 51,
     "metadata": {},
     "output_type": "execute_result"
    }
   ],
   "source": [
    "# переобучение для newton-cg_model_lr.pkl для предсказания на lbfgs_model_lr_last.pkl\n",
    "# clf = gs_lr_tfidf.best_estimator_\n",
    "clf = joblib.load(\"newton-cg_model_lr.pkl\")\n",
    "clf.fit(X_abs_train, y_abs_train)\n"
   ]
  },
  {
   "cell_type": "code",
   "execution_count": 52,
   "id": "12c925c7",
   "metadata": {},
   "outputs": [
    {
     "name": "stdout",
     "output_type": "stream",
     "text": [
      "CV Accuracy: 0.993\n",
      "CV Accuracy: 0.972\n"
     ]
    }
   ],
   "source": [
    "print(f'CV Accuracy: {clf.score(X_absolute_train, y_absolute_train):.3f}')\n",
    "print(f'CV Accuracy: {clf.score(X_abs_validation, y_abs_validation):.3f}')"
   ]
  },
  {
   "cell_type": "code",
   "execution_count": 53,
   "id": "e00a5e54",
   "metadata": {},
   "outputs": [
    {
     "data": {
      "text/plain": [
       "['lbfgs+_newton_cg_model_lr.pkl']"
      ]
     },
     "execution_count": 53,
     "metadata": {},
     "output_type": "execute_result"
    }
   ],
   "source": [
    "# сохранение модели\n",
    "# joblib.dump(clf, 'lbfgs+_newton_cg_model_lr.pkl')"
   ]
  },
  {
   "cell_type": "markdown",
   "id": "9f4437d9",
   "metadata": {},
   "source": [
    "## 6 Предсказание для KAGGLE"
   ]
  },
  {
   "cell_type": "code",
   "execution_count": 54,
   "id": "0896b49a",
   "metadata": {},
   "outputs": [
    {
     "data": {
      "text/html": [
       "<div>\n",
       "<style scoped>\n",
       "    .dataframe tbody tr th:only-of-type {\n",
       "        vertical-align: middle;\n",
       "    }\n",
       "\n",
       "    .dataframe tbody tr th {\n",
       "        vertical-align: top;\n",
       "    }\n",
       "\n",
       "    .dataframe thead th {\n",
       "        text-align: right;\n",
       "    }\n",
       "</style>\n",
       "<table border=\"1\" class=\"dataframe\">\n",
       "  <thead>\n",
       "    <tr style=\"text-align: right;\">\n",
       "      <th></th>\n",
       "      <th>name</th>\n",
       "      <th>description</th>\n",
       "    </tr>\n",
       "    <tr>\n",
       "      <th>index</th>\n",
       "      <th></th>\n",
       "      <th></th>\n",
       "    </tr>\n",
       "  </thead>\n",
       "  <tbody>\n",
       "    <tr>\n",
       "      <th>26461447</th>\n",
       "      <td>персональный водитель сервиса \"wheely\"</td>\n",
       "      <td>&lt;p&gt;&lt;strong&gt;В &lt;/strong&gt;связи с расширением авто...</td>\n",
       "    </tr>\n",
       "    <tr>\n",
       "      <th>26464220</th>\n",
       "      <td>менеджер по автоперевозкам</td>\n",
       "      <td>&lt;strong&gt;Обязанности:&lt;/strong&gt; &lt;ul&gt; &lt;li&gt;Поиск п...</td>\n",
       "    </tr>\n",
       "    <tr>\n",
       "      <th>26467473</th>\n",
       "      <td>продавец кассир (тц \"седанка сити\")</td>\n",
       "      <td>&lt;p&gt;&lt;strong&gt;Твои обязанности:&lt;/strong&gt;&lt;/p&gt; &lt;ul&gt;...</td>\n",
       "    </tr>\n",
       "    <tr>\n",
       "      <th>26468989</th>\n",
       "      <td>специалист по кадрам</td>\n",
       "      <td>&lt;p&gt;Обязанности:&lt;/p&gt; &lt;p&gt;- оформление приема, пе...</td>\n",
       "    </tr>\n",
       "    <tr>\n",
       "      <th>26471705</th>\n",
       "      <td>администратор на телефоне</td>\n",
       "      <td>&lt;strong&gt;Обязанности:&lt;/strong&gt; &lt;ul&gt; &lt;li&gt; &lt;p&gt;Обр...</td>\n",
       "    </tr>\n",
       "  </tbody>\n",
       "</table>\n",
       "</div>"
      ],
      "text/plain": [
       "                                            name  \\\n",
       "index                                              \n",
       "26461447  персональный водитель сервиса \"wheely\"   \n",
       "26464220              менеджер по автоперевозкам   \n",
       "26467473     продавец кассир (тц \"седанка сити\")   \n",
       "26468989                    специалист по кадрам   \n",
       "26471705               администратор на телефоне   \n",
       "\n",
       "                                                description  \n",
       "index                                                        \n",
       "26461447  <p><strong>В </strong>связи с расширением авто...  \n",
       "26464220  <strong>Обязанности:</strong> <ul> <li>Поиск п...  \n",
       "26467473  <p><strong>Твои обязанности:</strong></p> <ul>...  \n",
       "26468989  <p>Обязанности:</p> <p>- оформление приема, пе...  \n",
       "26471705  <strong>Обязанности:</strong> <ul> <li> <p>Обр...  "
      ]
     },
     "metadata": {},
     "output_type": "display_data"
    },
    {
     "data": {
      "text/plain": [
       "(1090, 2)"
      ]
     },
     "execution_count": 54,
     "metadata": {},
     "output_type": "execute_result"
    }
   ],
   "source": [
    "test = pd.read_csv(\"data/test.csv\", encoding=\"utf-8\", index_col=\"index\")\n",
    "display(test.head(5))\n",
    "test.shape"
   ]
  },
  {
   "cell_type": "code",
   "execution_count": 55,
   "id": "9414d1f6",
   "metadata": {},
   "outputs": [],
   "source": [
    "test[\"responsibilities\"] = responsibilities_ans\n",
    "test[\"requirements\"] = requirements_ans\n",
    "test[\"positions\"] = positions_ans\n",
    "test[\"full_description\"] = (\n",
    "    test[\"name\"] + \" \" + test[\"requirements\"].fillna(\"\") + \" \" + test[\"responsibilities\"].fillna(\"\")\n",
    "    + \" \" + test[\"positions\"].fillna(\"\") \n",
    ").map(str.lower)\n",
    "\n",
    "test[\"full_description\"] = test[\"full_description\"].apply(preprocessor)\n",
    "X_test= test[\"full_description\"]"
   ]
  },
  {
   "cell_type": "code",
   "execution_count": 56,
   "id": "93c3a926",
   "metadata": {},
   "outputs": [
    {
     "data": {
      "text/html": [
       "<div>\n",
       "<style scoped>\n",
       "    .dataframe tbody tr th:only-of-type {\n",
       "        vertical-align: middle;\n",
       "    }\n",
       "\n",
       "    .dataframe tbody tr th {\n",
       "        vertical-align: top;\n",
       "    }\n",
       "\n",
       "    .dataframe thead th {\n",
       "        text-align: right;\n",
       "    }\n",
       "</style>\n",
       "<table border=\"1\" class=\"dataframe\">\n",
       "  <thead>\n",
       "    <tr style=\"text-align: right;\">\n",
       "      <th></th>\n",
       "      <th>name</th>\n",
       "      <th>description</th>\n",
       "      <th>responsibilities</th>\n",
       "      <th>requirements</th>\n",
       "      <th>positions</th>\n",
       "      <th>full_description</th>\n",
       "    </tr>\n",
       "    <tr>\n",
       "      <th>index</th>\n",
       "      <th></th>\n",
       "      <th></th>\n",
       "      <th></th>\n",
       "      <th></th>\n",
       "      <th></th>\n",
       "      <th></th>\n",
       "    </tr>\n",
       "  </thead>\n",
       "  <tbody>\n",
       "    <tr>\n",
       "      <th>26461447</th>\n",
       "      <td>персональный водитель сервиса \"wheely\"</td>\n",
       "      <td>&lt;p&gt;&lt;strong&gt;В &lt;/strong&gt;связи с расширением авто...</td>\n",
       "      <td>Выполнение поступающих заявок через приложение...</td>\n",
       "      <td>Отличное знание Москвы и ПДД Знание ПК, умение...</td>\n",
       "      <td>Персональный водитель сервиса Wheely</td>\n",
       "      <td>персональный водитель сервиса wheely отличное ...</td>\n",
       "    </tr>\n",
       "    <tr>\n",
       "      <th>26464220</th>\n",
       "      <td>менеджер по автоперевозкам</td>\n",
       "      <td>&lt;strong&gt;Обязанности:&lt;/strong&gt; &lt;ul&gt; &lt;li&gt;Поиск п...</td>\n",
       "      <td>Поиск поставщиков Ведение перевозок от начало ...</td>\n",
       "      <td>Опыт работы не менее 1 года Хорошие коммуникат...</td>\n",
       "      <td>Менеджер по автоперевозкам</td>\n",
       "      <td>менеджер по автоперевозкам опыт работы не мене...</td>\n",
       "    </tr>\n",
       "  </tbody>\n",
       "</table>\n",
       "</div>"
      ],
      "text/plain": [
       "                                            name  \\\n",
       "index                                              \n",
       "26461447  персональный водитель сервиса \"wheely\"   \n",
       "26464220              менеджер по автоперевозкам   \n",
       "\n",
       "                                                description  \\\n",
       "index                                                         \n",
       "26461447  <p><strong>В </strong>связи с расширением авто...   \n",
       "26464220  <strong>Обязанности:</strong> <ul> <li>Поиск п...   \n",
       "\n",
       "                                           responsibilities  \\\n",
       "index                                                         \n",
       "26461447  Выполнение поступающих заявок через приложение...   \n",
       "26464220  Поиск поставщиков Ведение перевозок от начало ...   \n",
       "\n",
       "                                               requirements  \\\n",
       "index                                                         \n",
       "26461447  Отличное знание Москвы и ПДД Знание ПК, умение...   \n",
       "26464220  Опыт работы не менее 1 года Хорошие коммуникат...   \n",
       "\n",
       "                                     positions  \\\n",
       "index                                            \n",
       "26461447  Персональный водитель сервиса Wheely   \n",
       "26464220            Менеджер по автоперевозкам   \n",
       "\n",
       "                                           full_description  \n",
       "index                                                        \n",
       "26461447  персональный водитель сервиса wheely отличное ...  \n",
       "26464220  менеджер по автоперевозкам опыт работы не мене...  "
      ]
     },
     "metadata": {},
     "output_type": "display_data"
    }
   ],
   "source": [
    "display(test.head(2))"
   ]
  },
  {
   "cell_type": "code",
   "execution_count": 57,
   "id": "331f7aa3",
   "metadata": {},
   "outputs": [
    {
     "data": {
      "text/plain": [
       "index\n",
       "26461447    персональный водитель сервиса wheely отличное ...\n",
       "26464220    менеджер по автоперевозкам опыт работы не мене...\n",
       "Name: full_description, dtype: object"
      ]
     },
     "metadata": {},
     "output_type": "display_data"
    },
    {
     "data": {
      "text/plain": [
       "(1090,)"
      ]
     },
     "execution_count": 57,
     "metadata": {},
     "output_type": "execute_result"
    }
   ],
   "source": [
    "X_test = test[\"full_description\"]\n",
    "display(X_test.head(2))\n",
    "X_test.shape"
   ]
  },
  {
   "cell_type": "code",
   "execution_count": 58,
   "id": "979161a7",
   "metadata": {},
   "outputs": [],
   "source": [
    "# clf = gs_lr_tfidf.best_estimator_\n",
    "y_pred = clf.predict(X_test)"
   ]
  },
  {
   "cell_type": "code",
   "execution_count": 59,
   "id": "f2ba2689",
   "metadata": {},
   "outputs": [
    {
     "data": {
      "text/plain": [
       "array([8322, 4323, 5223, ..., 5223, 8343, 4323], dtype=int64)"
      ]
     },
     "execution_count": 59,
     "metadata": {},
     "output_type": "execute_result"
    }
   ],
   "source": [
    "y_pred\n",
    "# joblib.dump(clf, 'full_newton_cg_model_lr.pkl')"
   ]
  },
  {
   "cell_type": "markdown",
   "id": "5da3713d",
   "metadata": {},
   "source": [
    "Оформить ввиде датафрейма с двумя столбццами index и target."
   ]
  },
  {
   "cell_type": "code",
   "execution_count": 60,
   "id": "143b0b04",
   "metadata": {},
   "outputs": [
    {
     "data": {
      "text/html": [
       "<div>\n",
       "<style scoped>\n",
       "    .dataframe tbody tr th:only-of-type {\n",
       "        vertical-align: middle;\n",
       "    }\n",
       "\n",
       "    .dataframe tbody tr th {\n",
       "        vertical-align: top;\n",
       "    }\n",
       "\n",
       "    .dataframe thead th {\n",
       "        text-align: right;\n",
       "    }\n",
       "</style>\n",
       "<table border=\"1\" class=\"dataframe\">\n",
       "  <thead>\n",
       "    <tr style=\"text-align: right;\">\n",
       "      <th></th>\n",
       "      <th>index</th>\n",
       "      <th>target</th>\n",
       "    </tr>\n",
       "  </thead>\n",
       "  <tbody>\n",
       "    <tr>\n",
       "      <th>0</th>\n",
       "      <td>26461447</td>\n",
       "      <td>8322</td>\n",
       "    </tr>\n",
       "    <tr>\n",
       "      <th>1</th>\n",
       "      <td>26464220</td>\n",
       "      <td>4323</td>\n",
       "    </tr>\n",
       "    <tr>\n",
       "      <th>2</th>\n",
       "      <td>26467473</td>\n",
       "      <td>5223</td>\n",
       "    </tr>\n",
       "    <tr>\n",
       "      <th>3</th>\n",
       "      <td>26468989</td>\n",
       "      <td>1349</td>\n",
       "    </tr>\n",
       "  </tbody>\n",
       "</table>\n",
       "</div>"
      ],
      "text/plain": [
       "      index  target\n",
       "0  26461447    8322\n",
       "1  26464220    4323\n",
       "2  26467473    5223\n",
       "3  26468989    1349"
      ]
     },
     "metadata": {},
     "output_type": "display_data"
    }
   ],
   "source": [
    "test.reset_index(inplace= True )\n",
    "submission = test[[\"index\"]].assign(target=y_pred)\n",
    "display(submission.head(4))\n",
    "submission.to_csv(\"lbfgs_newton_cg.csv\", index=False)"
   ]
  },
  {
   "cell_type": "markdown",
   "id": "0f21ed0d",
   "metadata": {},
   "source": [
    "__Резюме__\n",
    "\n",
    "Score\n",
    "0.569"
   ]
  }
 ],
 "metadata": {
  "kernelspec": {
   "display_name": "Python 3",
   "language": "python",
   "name": "python3"
  },
  "language_info": {
   "codemirror_mode": {
    "name": "ipython",
    "version": 3
   },
   "file_extension": ".py",
   "mimetype": "text/x-python",
   "name": "python",
   "nbconvert_exporter": "python",
   "pygments_lexer": "ipython3",
   "version": "3.8.1"
  }
 },
 "nbformat": 4,
 "nbformat_minor": 5
}
